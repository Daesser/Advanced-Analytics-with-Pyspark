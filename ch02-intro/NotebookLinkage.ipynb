{
 "cells": [
  {
   "cell_type": "code",
   "execution_count": 1,
   "id": "e92395ba",
   "metadata": {},
   "outputs": [],
   "source": [
    "import pyspark.conf\n",
    "import pyspark.sql\n",
    "SparkConf = pyspark.conf.SparkConf\n",
    "SparkSession = pyspark.sql.SparkSession\n",
    "spark = SparkSession.builder \\\n",
    "            .appName(\"Intro\") \\\n",
    "            .config('spark.executor.memory', '2g') \\\n",
    "            .config('spark.driver.memory','8g') \\\n",
    "            .getOrCreate()"
   ]
  },
  {
   "cell_type": "code",
   "execution_count": 2,
   "id": "415d910e",
   "metadata": {},
   "outputs": [
    {
     "name": "stdout",
     "output_type": "stream",
     "text": [
      "+-----+-----+-----------------+------------+------------+------------+-------+------+------+------+-------+--------+\n",
      "|  _c0|  _c1|              _c2|         _c3|         _c4|         _c5|    _c6|   _c7|   _c8|   _c9|   _c10|    _c11|\n",
      "+-----+-----+-----------------+------------+------------+------------+-------+------+------+------+-------+--------+\n",
      "| id_1| id_2|     cmp_fname_c1|cmp_fname_c2|cmp_lname_c1|cmp_lname_c2|cmp_sex|cmp_bd|cmp_bm|cmp_by|cmp_plz|is_match|\n",
      "|37291|53113|0.833333333333333|           ?|           1|           ?|      1|     1|     1|     1|      0|    TRUE|\n",
      "|39086|47614|                1|           ?|           1|           ?|      1|     1|     1|     1|      1|    TRUE|\n",
      "|70031|70237|                1|           ?|           1|           ?|      1|     1|     1|     1|      1|    TRUE|\n",
      "|84795|97439|                1|           ?|           1|           ?|      1|     1|     1|     1|      1|    TRUE|\n",
      "|36950|42116|                1|           ?|           1|           1|      1|     1|     1|     1|      1|    TRUE|\n",
      "|42413|48491|                1|           ?|           1|           ?|      1|     1|     1|     1|      1|    TRUE|\n",
      "|25965|64753|                1|           ?|           1|           ?|      1|     1|     1|     1|      1|    TRUE|\n",
      "|49451|90407|                1|           ?|           1|           ?|      1|     1|     1|     1|      0|    TRUE|\n",
      "|39932|40902|                1|           ?|           1|           ?|      1|     1|     1|     1|      1|    TRUE|\n",
      "|46626|47940|                1|           ?|           1|           ?|      1|     1|     1|     1|      1|    TRUE|\n",
      "|48948|98379|                1|           ?|           1|           ?|      1|     1|     1|     1|      1|    TRUE|\n",
      "| 4767| 4826|                1|           ?|           1|           ?|      1|     1|     1|     1|      1|    TRUE|\n",
      "|45463|69659|                1|           ?|           1|           ?|      1|     1|     1|     1|      1|    TRUE|\n",
      "|11367|13169|                1|           ?|           1|           ?|      1|     1|     1|     1|      1|    TRUE|\n",
      "|10782|89636|                1|           ?|           1|           ?|      1|     0|     1|     1|      1|    TRUE|\n",
      "|26206|39147|                1|           ?|           1|           ?|      1|     1|     1|     1|      1|    TRUE|\n",
      "|16662|27083|                1|           1|           1|           ?|      1|     1|     1|     1|      1|    TRUE|\n",
      "|18823|30204|                1|           1|           1|           ?|      1|     1|     1|     1|      1|    TRUE|\n",
      "|38545|85418|                1|           ?|           1|           ?|      1|     1|     1|     1|      1|    TRUE|\n",
      "+-----+-----+-----------------+------------+------------+------------+-------+------+------+------+-------+--------+\n",
      "only showing top 20 rows\n",
      "\n"
     ]
    }
   ],
   "source": [
    "from pyspark.sql import functions as F\n",
    "\n",
    "#prev = spark.read.csv(\"linkage/block*.csv\")\n",
    "prev = spark.read.csv(\"linkage/block_1.csv\")\n",
    "prev.show()"
   ]
  },
  {
   "cell_type": "code",
   "execution_count": 3,
   "id": "540c39ff",
   "metadata": {},
   "outputs": [
    {
     "name": "stdout",
     "output_type": "stream",
     "text": [
      "root\n",
      " |-- _c0: string (nullable = true)\n",
      " |-- _c1: string (nullable = true)\n",
      " |-- _c2: string (nullable = true)\n",
      " |-- _c3: string (nullable = true)\n",
      " |-- _c4: string (nullable = true)\n",
      " |-- _c5: string (nullable = true)\n",
      " |-- _c6: string (nullable = true)\n",
      " |-- _c7: string (nullable = true)\n",
      " |-- _c8: string (nullable = true)\n",
      " |-- _c9: string (nullable = true)\n",
      " |-- _c10: string (nullable = true)\n",
      " |-- _c11: string (nullable = true)\n",
      "\n"
     ]
    }
   ],
   "source": [
    "prev.printSchema()\n",
    "parsed = spark.read \\\n",
    "            .option(\"header\", \"true\") \\\n",
    "            .option(\"nullValue\", \"?\") \\\n",
    "            .option(\"inferSchema\", \"true\") \\\n",
    "            .csv(\"linkage/block_1.csv\")"
   ]
  },
  {
   "cell_type": "code",
   "execution_count": 4,
   "id": "3c0c2252",
   "metadata": {},
   "outputs": [
    {
     "name": "stdout",
     "output_type": "stream",
     "text": [
      "+-----+-----+-----------------+------------+------------+------------+-------+------+------+------+-------+--------+\n",
      "| id_1| id_2|     cmp_fname_c1|cmp_fname_c2|cmp_lname_c1|cmp_lname_c2|cmp_sex|cmp_bd|cmp_bm|cmp_by|cmp_plz|is_match|\n",
      "+-----+-----+-----------------+------------+------------+------------+-------+------+------+------+-------+--------+\n",
      "|37291|53113|0.833333333333333|        null|         1.0|        null|      1|     1|     1|     1|      0|    true|\n",
      "|39086|47614|              1.0|        null|         1.0|        null|      1|     1|     1|     1|      1|    true|\n",
      "|70031|70237|              1.0|        null|         1.0|        null|      1|     1|     1|     1|      1|    true|\n",
      "|84795|97439|              1.0|        null|         1.0|        null|      1|     1|     1|     1|      1|    true|\n",
      "|36950|42116|              1.0|        null|         1.0|         1.0|      1|     1|     1|     1|      1|    true|\n",
      "|42413|48491|              1.0|        null|         1.0|        null|      1|     1|     1|     1|      1|    true|\n",
      "|25965|64753|              1.0|        null|         1.0|        null|      1|     1|     1|     1|      1|    true|\n",
      "|49451|90407|              1.0|        null|         1.0|        null|      1|     1|     1|     1|      0|    true|\n",
      "|39932|40902|              1.0|        null|         1.0|        null|      1|     1|     1|     1|      1|    true|\n",
      "|46626|47940|              1.0|        null|         1.0|        null|      1|     1|     1|     1|      1|    true|\n",
      "|48948|98379|              1.0|        null|         1.0|        null|      1|     1|     1|     1|      1|    true|\n",
      "| 4767| 4826|              1.0|        null|         1.0|        null|      1|     1|     1|     1|      1|    true|\n",
      "|45463|69659|              1.0|        null|         1.0|        null|      1|     1|     1|     1|      1|    true|\n",
      "|11367|13169|              1.0|        null|         1.0|        null|      1|     1|     1|     1|      1|    true|\n",
      "|10782|89636|              1.0|        null|         1.0|        null|      1|     0|     1|     1|      1|    true|\n",
      "|26206|39147|              1.0|        null|         1.0|        null|      1|     1|     1|     1|      1|    true|\n",
      "|16662|27083|              1.0|         1.0|         1.0|        null|      1|     1|     1|     1|      1|    true|\n",
      "|18823|30204|              1.0|         1.0|         1.0|        null|      1|     1|     1|     1|      1|    true|\n",
      "|38545|85418|              1.0|        null|         1.0|        null|      1|     1|     1|     1|      1|    true|\n",
      "|28963|39172|              1.0|        null|         1.0|        null|      1|     1|     1|     1|      1|    true|\n",
      "+-----+-----+-----------------+------------+------------+------------+-------+------+------+------+-------+--------+\n",
      "only showing top 20 rows\n",
      "\n"
     ]
    }
   ],
   "source": [
    "parsed.show()"
   ]
  },
  {
   "cell_type": "code",
   "execution_count": 5,
   "id": "1a885c8a",
   "metadata": {},
   "outputs": [
    {
     "name": "stdout",
     "output_type": "stream",
     "text": [
      "root\n",
      " |-- id_1: integer (nullable = true)\n",
      " |-- id_2: integer (nullable = true)\n",
      " |-- cmp_fname_c1: double (nullable = true)\n",
      " |-- cmp_fname_c2: double (nullable = true)\n",
      " |-- cmp_lname_c1: double (nullable = true)\n",
      " |-- cmp_lname_c2: double (nullable = true)\n",
      " |-- cmp_sex: integer (nullable = true)\n",
      " |-- cmp_bd: integer (nullable = true)\n",
      " |-- cmp_bm: integer (nullable = true)\n",
      " |-- cmp_by: integer (nullable = true)\n",
      " |-- cmp_plz: integer (nullable = true)\n",
      " |-- is_match: boolean (nullable = true)\n",
      "\n"
     ]
    }
   ],
   "source": [
    "parsed.printSchema()"
   ]
  },
  {
   "cell_type": "code",
   "execution_count": 6,
   "id": "5c0589ef",
   "metadata": {},
   "outputs": [
    {
     "data": {
      "text/plain": [
       "574913"
      ]
     },
     "execution_count": 6,
     "metadata": {},
     "output_type": "execute_result"
    }
   ],
   "source": [
    "parsed.count()"
   ]
  },
  {
   "cell_type": "code",
   "execution_count": 7,
   "id": "039039e0",
   "metadata": {},
   "outputs": [
    {
     "data": {
      "text/plain": [
       "DataFrame[id_1: int, id_2: int, cmp_fname_c1: double, cmp_fname_c2: double, cmp_lname_c1: double, cmp_lname_c2: double, cmp_sex: int, cmp_bd: int, cmp_bm: int, cmp_by: int, cmp_plz: int, is_match: boolean]"
      ]
     },
     "execution_count": 7,
     "metadata": {},
     "output_type": "execute_result"
    }
   ],
   "source": [
    "parsed.cache()"
   ]
  },
  {
   "cell_type": "code",
   "execution_count": 8,
   "id": "c061c9cc",
   "metadata": {},
   "outputs": [
    {
     "name": "stdout",
     "output_type": "stream",
     "text": [
      "+--------+------+\n",
      "|is_match| count|\n",
      "+--------+------+\n",
      "|   false|572820|\n",
      "|    true|  2093|\n",
      "+--------+------+\n",
      "\n"
     ]
    }
   ],
   "source": [
    "parsed.groupBy(\"is_match\").count().orderBy(\"count\", ascending=False).show()"
   ]
  },
  {
   "cell_type": "code",
   "execution_count": 9,
   "id": "9a25398f",
   "metadata": {},
   "outputs": [],
   "source": [
    "parsed.createOrReplaceTempView(\"linkage\")"
   ]
  },
  {
   "cell_type": "code",
   "execution_count": 10,
   "id": "4af902c4",
   "metadata": {},
   "outputs": [
    {
     "name": "stdout",
     "output_type": "stream",
     "text": [
      "+--------+------+\n",
      "|is_match|   cnt|\n",
      "+--------+------+\n",
      "|   false|572820|\n",
      "|    true|  2093|\n",
      "+--------+------+\n",
      "\n"
     ]
    }
   ],
   "source": [
    "spark.sql(\"\"\"\n",
    "            SELECT is_match, COUNT(*) cnt\n",
    "            FROM linkage\n",
    "            GROUP BY is_match\n",
    "            ORDER BY cnt DESC\n",
    "        \"\"\").show()"
   ]
  },
  {
   "cell_type": "code",
   "execution_count": 17,
   "id": "5066315f",
   "metadata": {},
   "outputs": [
    {
     "name": "stdout",
     "output_type": "stream",
     "text": [
      "+-------+------------------+-----------------+------------------+------------------+------------------+------------------+-------------------+-------------------+------------------+-------------------+--------------------+\n",
      "|summary|              id_1|             id_2|      cmp_fname_c1|      cmp_fname_c2|      cmp_lname_c1|      cmp_lname_c2|            cmp_sex|             cmp_bd|            cmp_bm|             cmp_by|             cmp_plz|\n",
      "+-------+------------------+-----------------+------------------+------------------+------------------+------------------+-------------------+-------------------+------------------+-------------------+--------------------+\n",
      "|  count|            574913|           574913|            574811|             10325|            574913|               239|             574913|             574851|            574851|             574851|              573618|\n",
      "|   mean|33271.962171667714| 66564.6636865056|0.7127592938253411|0.8977586763518969|0.3155724578100624|0.3269155414552904| 0.9550923357099248|0.22475563232907309|0.4886361857246487|0.22266639529199742|0.005494946113964...|\n",
      "| stddev|23622.669425933756|23642.00230967228|0.3889286452463531|0.2742577520430532|0.3342494687554245|0.3783092020540671|0.20710152240504442| 0.4174216587235557|0.4998712818281637| 0.4160365041645591| 0.07392402321301972|\n",
      "|    min|                 1|                6|               0.0|               0.0|               0.0|               0.0|                  0|                  0|                 0|                  0|                   0|\n",
      "|    max|             99894|           100000|               1.0|               1.0|               1.0|               1.0|                  1|                  1|                 1|                  1|                   1|\n",
      "+-------+------------------+-----------------+------------------+------------------+------------------+------------------+-------------------+-------------------+------------------+-------------------+--------------------+\n",
      "\n"
     ]
    }
   ],
   "source": [
    "summary = parsed.describe()\n",
    "summary.show()"
   ]
  },
  {
   "cell_type": "code",
   "execution_count": 16,
   "id": "20560b4f",
   "metadata": {},
   "outputs": [],
   "source": [
    "matches = parsed.where(\"is_match = true\")\n",
    "misses  = parsed.where(\"is_match = false\")\n",
    "matchSummary = matches.describe()\n",
    "missSummary = misses.describe()"
   ]
  },
  {
   "cell_type": "code",
   "execution_count": 18,
   "id": "a23a76b2",
   "metadata": {},
   "outputs": [],
   "source": [
    "def longForm(desc):\n",
    "    schema = desc.schema\n",
    "    \n",
    "    def _tmp(row):\n",
    "        metric = str(row[0])\n",
    "        output = []\n",
    "        for i in range(len(row)):\n",
    "            output.append([metric, schema[i].name, str(row[i])])\n",
    "        # end for\n",
    "        return output\n",
    "    # end def\n",
    "    \n",
    "    return desc.rdd.flatMap(lambda row : _tmp(row)).toDF([\"metric\", \"field\", \"value\"])\n",
    "# end def\n",
    "        \n",
    "def pivotSummary(desc):\n",
    "    lf = longForm(desc)\n",
    "    return lf.groupBy(\"field\"). \\\n",
    "        pivot(\"metric\", (\"count\", \"mean\", \"stddev\", \"min\", \"max\")). \\\n",
    "        agg(F.first(\"value\"))\n",
    "# end def\n",
    "        \n",
    "def crossTabs(scored, t):\n",
    "    return scored. \\\n",
    "      selectExpr(\"score >= %s as above\" % t, \"is_match\").\\\n",
    "      groupBy(\"above\").\\\n",
    "      pivot(\"is_match\", (\"true\", \"false\")).\\\n",
    "      count()\n",
    "# end def\n",
    "\n",
    "def scoreMatchData(md):\n",
    "    return md.cmp_lname_c1 + md.cmp_plz + \\\n",
    "            md.cmp_by + md.cmp_bd + md.cmp_bm"
   ]
  },
  {
   "cell_type": "code",
   "execution_count": 19,
   "id": "78bc6ac3",
   "metadata": {},
   "outputs": [
    {
     "name": "stdout",
     "output_type": "stream",
     "text": [
      "+------------+--------+-------------------+\n",
      "|       field|   total|              delta|\n",
      "+------------+--------+-------------------+\n",
      "|        id_1|574913.0| 1173.1784091823356|\n",
      "|     cmp_plz|573618.0| 0.9524975516429005|\n",
      "|cmp_lname_c2|   239.0| 0.8136949970410103|\n",
      "|      cmp_by|574851.0| 0.7763379425859384|\n",
      "|      cmp_bd|574851.0| 0.7732820129086737|\n",
      "|cmp_lname_c1|574913.0| 0.6844795197261291|\n",
      "|      cmp_bm|574851.0|  0.510834819548174|\n",
      "|cmp_fname_c1|574811.0|0.28531156828518667|\n",
      "|cmp_fname_c2| 10325.0|0.09900440489032714|\n",
      "|     cmp_sex|574913.0|0.03452211590529575|\n",
      "|        id_2|574913.0|-15732.615614206828|\n",
      "|     summary|    null|               null|\n",
      "+------------+--------+-------------------+\n",
      "\n"
     ]
    }
   ],
   "source": [
    "matchSummaryT = pivotSummary(matchSummary)\n",
    "missSummaryT = pivotSummary(missSummary)\n",
    "matchSummaryT.createOrReplaceTempView(\"match_desc\")\n",
    "missSummaryT.createOrReplaceTempView(\"miss_desc\")\n",
    "spark.sql(\"\"\"\n",
    "    SELECT a.field, a.count + b.count total, a.mean - b.mean delta\n",
    "    FROM match_desc a INNER JOIN miss_desc b ON a.field = b.field\n",
    "    ORDER BY delta DESC, total DESC\n",
    "\"\"\").show()"
   ]
  },
  {
   "cell_type": "code",
   "execution_count": null,
   "id": "d2e9291b",
   "metadata": {},
   "outputs": [],
   "source": []
  }
 ],
 "metadata": {
  "kernelspec": {
   "display_name": "Python 3 (ipykernel)",
   "language": "python",
   "name": "python3"
  },
  "language_info": {
   "codemirror_mode": {
    "name": "ipython",
    "version": 3
   },
   "file_extension": ".py",
   "mimetype": "text/x-python",
   "name": "python",
   "nbconvert_exporter": "python",
   "pygments_lexer": "ipython3",
   "version": "3.9.7"
  }
 },
 "nbformat": 4,
 "nbformat_minor": 5
}
