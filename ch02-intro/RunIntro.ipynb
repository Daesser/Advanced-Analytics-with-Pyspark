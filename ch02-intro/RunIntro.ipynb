{
 "cells": [
  {
   "cell_type": "code",
   "execution_count": 1,
   "metadata": {},
   "outputs": [],
   "source": [
    "import pyspark.conf\n",
    "import pyspark.sql\n",
    "SparkConf = pyspark.conf.SparkConf\n",
    "SparkSession = pyspark.sql.SparkSession\n",
    "spark = SparkSession.builder \\\n",
    "            .appName(\"Intro\") \\\n",
    "            .config('spark.executor.memory', '2g') \\\n",
    "            .config('spark.driver.memory','8g') \\\n",
    "            .getOrCreate()"
   ]
  },
  {
   "cell_type": "code",
   "execution_count": 113,
   "metadata": {},
   "outputs": [],
   "source": [
    "from pyspark.sql import functions as F"
   ]
  },
  {
   "cell_type": "code",
   "execution_count": null,
   "metadata": {},
   "outputs": [],
   "source": [
    "from utils import *"
   ]
  },
  {
   "cell_type": "code",
   "execution_count": 4,
   "metadata": {},
   "outputs": [],
   "source": [
    "preview = spark.read.csv(\"data/linkage/\")"
   ]
  },
  {
   "cell_type": "code",
   "execution_count": 5,
   "metadata": {},
   "outputs": [
    {
     "name": "stdout",
     "output_type": "stream",
     "text": [
      "+-----+-----+------------+------------+------------+------------+-------+------+------+------+-------+--------+\n",
      "|  _c0|  _c1|         _c2|         _c3|         _c4|         _c5|    _c6|   _c7|   _c8|   _c9|   _c10|    _c11|\n",
      "+-----+-----+------------+------------+------------+------------+-------+------+------+------+-------+--------+\n",
      "| id_1| id_2|cmp_fname_c1|cmp_fname_c2|cmp_lname_c1|cmp_lname_c2|cmp_sex|cmp_bd|cmp_bm|cmp_by|cmp_plz|is_match|\n",
      "| 3148| 8326|           1|           ?|           1|           ?|      1|     1|     1|     1|      1|    TRUE|\n",
      "|14055|94934|           1|           ?|           1|           ?|      1|     1|     1|     1|      1|    TRUE|\n",
      "|33948|34740|           1|           ?|           1|           ?|      1|     1|     1|     1|      1|    TRUE|\n",
      "|  946|71870|           1|           ?|           1|           ?|      1|     1|     1|     1|      1|    TRUE|\n",
      "|64880|71676|           1|           ?|           1|           ?|      1|     1|     1|     1|      1|    TRUE|\n",
      "|25739|45991|           1|           ?|           1|           ?|      1|     1|     1|     1|      1|    TRUE|\n",
      "|62415|93584|           1|           ?|           1|           ?|      1|     1|     1|     1|      0|    TRUE|\n",
      "|27995|31399|           1|           ?|           1|           ?|      1|     1|     1|     1|      1|    TRUE|\n",
      "| 4909|12238|           1|           ?|           1|           ?|      1|     1|     1|     1|      1|    TRUE|\n",
      "|15161|16743|           1|           ?|           1|           ?|      1|     1|     1|     1|      1|    TRUE|\n",
      "|31703|37310|           1|           ?|           1|           ?|      1|     1|     1|     1|      1|    TRUE|\n",
      "|30213|36558|           1|           ?|           1|           ?|      1|     1|     1|     1|      1|    TRUE|\n",
      "|56596|56630|           1|           ?|           1|           ?|      1|     1|     1|     1|      1|    TRUE|\n",
      "|16481|21174|           1|           ?|           1|           ?|      1|     1|     1|     1|      1|    TRUE|\n",
      "|32649|37094|           1|           ?|           1|           ?|      1|     1|     1|     1|      1|    TRUE|\n",
      "|34268|37260|           1|           ?|           1|           ?|      1|     1|     1|     1|      1|    TRUE|\n",
      "|66117|69253|           1|           ?|           1|           ?|      1|     1|     1|     1|      0|    TRUE|\n",
      "| 2771|31982|           1|           ?|           1|           ?|      0|     1|     1|     1|      1|    TRUE|\n",
      "|23557|29673|           1|           ?|           1|           ?|      1|     1|     1|     1|      1|    TRUE|\n",
      "+-----+-----+------------+------------+------------+------------+-------+------+------+------+-------+--------+\n",
      "only showing top 20 rows\n",
      "\n"
     ]
    }
   ],
   "source": [
    "preview.show()"
   ]
  },
  {
   "cell_type": "code",
   "execution_count": 8,
   "metadata": {},
   "outputs": [
    {
     "name": "stdout",
     "output_type": "stream",
     "text": [
      "root\n",
      " |-- _c0: string (nullable = true)\n",
      " |-- _c1: string (nullable = true)\n",
      " |-- _c2: string (nullable = true)\n",
      " |-- _c3: string (nullable = true)\n",
      " |-- _c4: string (nullable = true)\n",
      " |-- _c5: string (nullable = true)\n",
      " |-- _c6: string (nullable = true)\n",
      " |-- _c7: string (nullable = true)\n",
      " |-- _c8: string (nullable = true)\n",
      " |-- _c9: string (nullable = true)\n",
      " |-- _c10: string (nullable = true)\n",
      " |-- _c11: string (nullable = true)\n",
      "\n"
     ]
    }
   ],
   "source": [
    "preview.printSchema()"
   ]
  },
  {
   "cell_type": "code",
   "execution_count": 9,
   "metadata": {},
   "outputs": [],
   "source": [
    "parsed = spark.read \\\n",
    "            .option(\"header\", \"true\") \\\n",
    "            .option(\"nullValue\", \"?\") \\\n",
    "            .option(\"inferSchema\", \"true\") \\\n",
    "            .csv(\"data/linkage/\")"
   ]
  },
  {
   "cell_type": "code",
   "execution_count": 34,
   "metadata": {},
   "outputs": [
    {
     "name": "stdout",
     "output_type": "stream",
     "text": [
      "+-----+-----+------------+------------+------------+------------+-------+------+------+------+-------+--------+\n",
      "| id_1| id_2|cmp_fname_c1|cmp_fname_c2|cmp_lname_c1|cmp_lname_c2|cmp_sex|cmp_bd|cmp_bm|cmp_by|cmp_plz|is_match|\n",
      "+-----+-----+------------+------------+------------+------------+-------+------+------+------+-------+--------+\n",
      "| 3148| 8326|           1|        null|           1|        null|      1|     1|     1|     1|      1|    true|\n",
      "|14055|94934|           1|        null|           1|        null|      1|     1|     1|     1|      1|    true|\n",
      "|33948|34740|           1|        null|           1|        null|      1|     1|     1|     1|      1|    true|\n",
      "|  946|71870|           1|        null|           1|        null|      1|     1|     1|     1|      1|    true|\n",
      "|64880|71676|           1|        null|           1|        null|      1|     1|     1|     1|      1|    true|\n",
      "|25739|45991|           1|        null|           1|        null|      1|     1|     1|     1|      1|    true|\n",
      "|62415|93584|           1|        null|           1|        null|      1|     1|     1|     1|      0|    true|\n",
      "|27995|31399|           1|        null|           1|        null|      1|     1|     1|     1|      1|    true|\n",
      "| 4909|12238|           1|        null|           1|        null|      1|     1|     1|     1|      1|    true|\n",
      "|15161|16743|           1|        null|           1|        null|      1|     1|     1|     1|      1|    true|\n",
      "|31703|37310|           1|        null|           1|        null|      1|     1|     1|     1|      1|    true|\n",
      "|30213|36558|           1|        null|           1|        null|      1|     1|     1|     1|      1|    true|\n",
      "|56596|56630|           1|        null|           1|        null|      1|     1|     1|     1|      1|    true|\n",
      "|16481|21174|           1|        null|           1|        null|      1|     1|     1|     1|      1|    true|\n",
      "|32649|37094|           1|        null|           1|        null|      1|     1|     1|     1|      1|    true|\n",
      "|34268|37260|           1|        null|           1|        null|      1|     1|     1|     1|      1|    true|\n",
      "|66117|69253|           1|        null|           1|        null|      1|     1|     1|     1|      0|    true|\n",
      "| 2771|31982|           1|        null|           1|        null|      0|     1|     1|     1|      1|    true|\n",
      "|23557|29673|           1|        null|           1|        null|      1|     1|     1|     1|      1|    true|\n",
      "|37156|39557|           1|        null|           1|        null|      1|     1|     1|     1|      1|    true|\n",
      "+-----+-----+------------+------------+------------+------------+-------+------+------+------+-------+--------+\n",
      "only showing top 20 rows\n",
      "\n"
     ]
    }
   ],
   "source": [
    "parsed.show()"
   ]
  },
  {
   "cell_type": "code",
   "execution_count": 35,
   "metadata": {},
   "outputs": [
    {
     "name": "stdout",
     "output_type": "stream",
     "text": [
      "root\n",
      " |-- id_1: string (nullable = true)\n",
      " |-- id_2: string (nullable = true)\n",
      " |-- cmp_fname_c1: string (nullable = true)\n",
      " |-- cmp_fname_c2: string (nullable = true)\n",
      " |-- cmp_lname_c1: string (nullable = true)\n",
      " |-- cmp_lname_c2: string (nullable = true)\n",
      " |-- cmp_sex: string (nullable = true)\n",
      " |-- cmp_bd: string (nullable = true)\n",
      " |-- cmp_bm: string (nullable = true)\n",
      " |-- cmp_by: integer (nullable = true)\n",
      " |-- cmp_plz: integer (nullable = true)\n",
      " |-- is_match: boolean (nullable = true)\n",
      "\n"
     ]
    }
   ],
   "source": [
    "parsed.printSchema()"
   ]
  },
  {
   "cell_type": "code",
   "execution_count": 36,
   "metadata": {},
   "outputs": [
    {
     "data": {
      "text/plain": [
       "5749133"
      ]
     },
     "execution_count": 36,
     "metadata": {},
     "output_type": "execute_result"
    }
   ],
   "source": [
    "parsed.count()"
   ]
  },
  {
   "cell_type": "code",
   "execution_count": 37,
   "metadata": {},
   "outputs": [
    {
     "data": {
      "text/plain": [
       "DataFrame[id_1: string, id_2: string, cmp_fname_c1: string, cmp_fname_c2: string, cmp_lname_c1: string, cmp_lname_c2: string, cmp_sex: string, cmp_bd: string, cmp_bm: string, cmp_by: int, cmp_plz: int, is_match: boolean]"
      ]
     },
     "execution_count": 37,
     "metadata": {},
     "output_type": "execute_result"
    }
   ],
   "source": [
    "parsed.cache()"
   ]
  },
  {
   "cell_type": "code",
   "execution_count": 38,
   "metadata": {},
   "outputs": [
    {
     "name": "stdout",
     "output_type": "stream",
     "text": [
      "+--------+-------+\n",
      "|is_match|  count|\n",
      "+--------+-------+\n",
      "|   false|5728201|\n",
      "|    true|  20931|\n",
      "|    null|      1|\n",
      "+--------+-------+\n",
      "\n"
     ]
    }
   ],
   "source": [
    "parsed.groupBy(\"is_match\").count().orderBy(\"count\", ascending=False).show()"
   ]
  },
  {
   "cell_type": "code",
   "execution_count": 39,
   "metadata": {},
   "outputs": [],
   "source": [
    "parsed.createOrReplaceTempView(\"linkage\")"
   ]
  },
  {
   "cell_type": "code",
   "execution_count": 40,
   "metadata": {},
   "outputs": [
    {
     "name": "stdout",
     "output_type": "stream",
     "text": [
      "+--------+-------+\n",
      "|is_match|    cnt|\n",
      "+--------+-------+\n",
      "|   false|5728201|\n",
      "|    true|  20931|\n",
      "|    null|      1|\n",
      "+--------+-------+\n",
      "\n"
     ]
    }
   ],
   "source": [
    "spark.sql(\"\"\"\n",
    "            SELECT is_match, COUNT(*) cnt\n",
    "            FROM linkage\n",
    "            GROUP BY is_match\n",
    "            ORDER BY cnt DESC\n",
    "        \"\"\").show()"
   ]
  },
  {
   "cell_type": "code",
   "execution_count": 41,
   "metadata": {},
   "outputs": [
    {
     "name": "stdout",
     "output_type": "stream",
     "text": [
      "+-------+--------------------+-------------------+--------------------+------------------+------------------+------------------+-------------------+-------------------+------------------+------------------+-------------------+\n",
      "|summary|                id_1|               id_2|        cmp_fname_c1|      cmp_fname_c2|      cmp_lname_c1|      cmp_lname_c2|            cmp_sex|             cmp_bd|            cmp_bm|            cmp_by|            cmp_plz|\n",
      "+-------+--------------------+-------------------+--------------------+------------------+------------------+------------------+-------------------+-------------------+------------------+------------------+-------------------+\n",
      "|  count|             5749133|            5749133|             5748126|            103699|           5749133|              2465|            5749133|            5748338|           5748338|           5748337|            5736289|\n",
      "|   mean|   33324.47979999771|  66587.42400114964|   0.712902346423786|0.9000089989364373|0.3156278513771932|0.3182967444051653| 0.9550012294607436|0.22446522967751065|0.4888552135282675|0.2227485966810923|0.00552866147434343|\n",
      "| stddev|  23659.861398886478| 23620.501884381756|  0.3887584395082905|0.2713306768152375|0.3342336137386101|0.3685373395187369|0.20730141190312001| 0.4172296957328067|0.4998758217099847|0.4160909629831711|0.07414914925420013|\n",
      "|    min|0.000235404896421846|0.00147710487444609|                   0|                 0|                 0|                 0|                  0|                  0|                 0|                 0|                  0|\n",
      "|    max|                9999|              99999|2.68694413843136e-05|                 1|                 1|                 1|                  1|                  1|                 1|                 1|                  1|\n",
      "+-------+--------------------+-------------------+--------------------+------------------+------------------+------------------+-------------------+-------------------+------------------+------------------+-------------------+\n",
      "\n"
     ]
    }
   ],
   "source": [
    "summary = parsed.describe()\n",
    "summary.show()"
   ]
  },
  {
   "cell_type": "code",
   "execution_count": 42,
   "metadata": {},
   "outputs": [
    {
     "name": "stdout",
     "output_type": "stream",
     "text": [
      "+-------+--------------------+------------------+\n",
      "|summary|        cmp_fname_c1|      cmp_fname_c2|\n",
      "+-------+--------------------+------------------+\n",
      "|  count|             5748126|            103699|\n",
      "|   mean|   0.712902346423786|0.9000089989364373|\n",
      "| stddev|  0.3887584395082905|0.2713306768152375|\n",
      "|    min|                   0|                 0|\n",
      "|    max|2.68694413843136e-05|                 1|\n",
      "+-------+--------------------+------------------+\n",
      "\n"
     ]
    }
   ],
   "source": [
    "summary.select(\"summary\", \"cmp_fname_c1\", \"cmp_fname_c2\").show()"
   ]
  },
  {
   "cell_type": "code",
   "execution_count": 43,
   "metadata": {},
   "outputs": [],
   "source": [
    "matches = parsed.where(\"is_match = true\")\n",
    "misses  = parsed.where(\"is_match = false\")"
   ]
  },
  {
   "cell_type": "code",
   "execution_count": 44,
   "metadata": {},
   "outputs": [],
   "source": [
    "matchSummary = matches.describe()\n",
    "missSummary = misses.describe()"
   ]
  },
  {
   "cell_type": "code",
   "execution_count": 83,
   "metadata": {},
   "outputs": [
    {
     "data": {
      "text/plain": [
       "12"
      ]
     },
     "execution_count": 83,
     "metadata": {},
     "output_type": "execute_result"
    }
   ],
   "source": [
    "len(a)"
   ]
  },
  {
   "cell_type": "code",
   "execution_count": 111,
   "metadata": {},
   "outputs": [],
   "source": []
  },
  {
   "cell_type": "code",
   "execution_count": 112,
   "metadata": {},
   "outputs": [
    {
     "data": {
      "text/plain": [
       "<function pyspark.sql.functions.first(col, ignorenulls=False)>"
      ]
     },
     "execution_count": 112,
     "metadata": {},
     "output_type": "execute_result"
    }
   ],
   "source": []
  },
  {
   "cell_type": "code",
   "execution_count": 114,
   "metadata": {},
   "outputs": [],
   "source": [
    "def longForm(desc):\n",
    "    schema = desc.schema\n",
    "    \n",
    "    def _tmp(row):\n",
    "        metric = str(row[0])\n",
    "        output = []\n",
    "        for i in range(len(row)):\n",
    "            output.append([metric, schema[i].name, str(row[i])])\n",
    "        # end for\n",
    "        return output\n",
    "    # end def\n",
    "    \n",
    "    return desc.rdd.flatMap(lambda row : _tmp(row)).toDF([\"metric\", \"field\", \"value\"])\n",
    "# end def\n",
    "        \n",
    "def pivotSummary(desc):\n",
    "    lf = longForm(desc)\n",
    "    return lf.groupBy(\"field\"). \\\n",
    "        pivot(\"metric\", (\"count\", \"mean\", \"stddev\", \"min\", \"max\")). \\\n",
    "        agg(F.first(\"value\"))\n",
    "# end def\n",
    "        \n",
    "def crossTabs(scored, t):\n",
    "    return scored. \\\n",
    "      selectExpr(\"score >= %s as above\" % t, \"is_match\").\\\n",
    "      groupBy(\"above\").\\\n",
    "      pivot(\"is_match\", (\"true\", \"false\")).\\\n",
    "      count()\n",
    "# end def\n",
    "\n",
    "def scoreMatchData(md):\n",
    "    return md.cmp_lname_c1 + md.cmp_plz + \\\n",
    "            md.cmp_by + md.cmp_bd + md.cmp_bm\n",
    "# end def"
   ]
  },
  {
   "cell_type": "code",
   "execution_count": 115,
   "metadata": {},
   "outputs": [
    {
     "name": "stdout",
     "output_type": "stream",
     "text": [
      "+------------+---------+--------------------+\n",
      "|       field|    total|               delta|\n",
      "+------------+---------+--------------------+\n",
      "|        id_1|5749132.0|  1255.8076310367542|\n",
      "|     cmp_plz|5736289.0|  0.9563812499852176|\n",
      "|cmp_lname_c2|   2464.0|  0.8064147192926263|\n",
      "|      cmp_by|5748337.0|  0.7762059675300512|\n",
      "|      cmp_bd|5748337.0|   0.775442311783404|\n",
      "|cmp_lname_c1|5749132.0|  0.6838772482598161|\n",
      "|      cmp_bm|5748337.0|  0.5109496938298685|\n",
      "|cmp_fname_c1|5748125.0| 0.28545290574713356|\n",
      "|cmp_fname_c2| 103698.0| 0.09104268062278553|\n",
      "|     cmp_sex|5749132.0|0.032408185250332844|\n",
      "|        id_2|5749132.0| -15383.483201807663|\n",
      "|     summary|     null|                null|\n",
      "+------------+---------+--------------------+\n",
      "\n"
     ]
    }
   ],
   "source": [
    "matchSummaryT = pivotSummary(matchSummary)\n",
    "missSummaryT = pivotSummary(missSummary)\n",
    "matchSummaryT.createOrReplaceTempView(\"match_desc\")\n",
    "missSummaryT.createOrReplaceTempView(\"miss_desc\")\n",
    "spark.sql(\"\"\"\n",
    "    SELECT a.field, a.count + b.count total, a.mean - b.mean delta\n",
    "    FROM match_desc a INNER JOIN miss_desc b ON a.field = b.field\n",
    "    ORDER BY delta DESC, total DESC\n",
    "\"\"\").show()"
   ]
  },
  {
   "cell_type": "code",
   "execution_count": 11,
   "metadata": {},
   "outputs": [],
   "source": [
    "matchData = parsed.rdd.map(MatchData)"
   ]
  },
  {
   "cell_type": "code",
   "execution_count": 32,
   "metadata": {},
   "outputs": [],
   "source": [
    "scored = matchData.map(lambda md: (str(scoreMatchData(md)), str(md.is_match).lower())).toDF([\"score\", \"is_match\"])"
   ]
  },
  {
   "cell_type": "code",
   "execution_count": 33,
   "metadata": {},
   "outputs": [
    {
     "name": "stdout",
     "output_type": "stream",
     "text": [
      "+-----+-----+-------+\n",
      "|above| true|  false|\n",
      "+-----+-----+-------+\n",
      "| true|20871|    637|\n",
      "|false|   60|5727564|\n",
      "+-----+-----+-------+\n",
      "\n"
     ]
    }
   ],
   "source": [
    "crossTabs(scored, 4.0).show()"
   ]
  }
 ],
 "metadata": {
  "kernelspec": {
   "display_name": "Python 3",
   "language": "python",
   "name": "python3"
  },
  "language_info": {
   "codemirror_mode": {
    "name": "ipython",
    "version": 3
   },
   "file_extension": ".py",
   "mimetype": "text/x-python",
   "name": "python",
   "nbconvert_exporter": "python",
   "pygments_lexer": "ipython3",
   "version": "3.5.2"
  }
 },
 "nbformat": 4,
 "nbformat_minor": 2
}
