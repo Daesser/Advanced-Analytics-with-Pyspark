{
 "cells": [
  {
   "cell_type": "code",
   "execution_count": 1,
   "metadata": {},
   "outputs": [],
   "source": [
    "import pyspark.conf\n",
    "import pyspark.sql\n",
    "SparkConf = pyspark.conf.SparkConf\n",
    "SparkSession = pyspark.sql.SparkSession\n",
    "spark = SparkSession.builder \\\n",
    "            .appName(\"Intro\") \\\n",
    "            .config('spark.executor.memory', '2g') \\\n",
    "            .config('spark.driver.memory','8g') \\\n",
    "            .config(\"spark.sql.crossJoin.enabled\", \"true\")\\\n",
    "            .getOrCreate()"
   ]
  },
  {
   "cell_type": "code",
   "execution_count": 2,
   "metadata": {},
   "outputs": [],
   "source": [
    "from pyspark.sql.types import IntegerType\n",
    "from pyspark.sql import functions as F\n",
    "from pyspark.sql import Row\n",
    "from pyspark.sql.types import IntegerType"
   ]
  },
  {
   "cell_type": "code",
   "execution_count": 17,
   "metadata": {},
   "outputs": [],
   "source": [
    "from pyspark.ml.recommendation import ALS\n",
    "import random"
   ]
  },
  {
   "cell_type": "code",
   "execution_count": 3,
   "metadata": {},
   "outputs": [],
   "source": [
    "datadir = '/home/ubuntu/profiledata_06-May-2005/'"
   ]
  },
  {
   "cell_type": "code",
   "execution_count": 4,
   "metadata": {},
   "outputs": [],
   "source": [
    "base = datadir\n",
    "rawUserArtistData = spark.read.text(base + \"user_artist_data.txt\")\n",
    "rawArtistData = spark.read.text(base + \"artist_data.txt\")\n",
    "rawArtistAlias = spark.read.text(base + \"artist_alias.txt\")"
   ]
  },
  {
   "cell_type": "code",
   "execution_count": null,
   "metadata": {},
   "outputs": [],
   "source": [
    "\n",
    "        runRecommender = RunRecommender(spark)\n",
    "        runRecommender.preparation(rawUserArtistData, rawArtistData, rawArtistAlias)\n",
    "        runRecommender.model(rawUserArtistData, rawArtistData, rawArtistAlias)\n",
    "        runRecommender.evaluate(rawUserArtistData, rawArtistAlias)\n",
    "        runRecommender.recommend(rawUserArtistData, rawArtistData, rawArtistAlias)"
   ]
  },
  {
   "cell_type": "markdown",
   "metadata": {},
   "source": [
    "### preparation"
   ]
  },
  {
   "cell_type": "code",
   "execution_count": 5,
   "metadata": {},
   "outputs": [
    {
     "name": "stdout",
     "output_type": "stream",
     "text": [
      "Row(value='1000002 1 55')\n",
      "Row(value='1000002 1000006 33')\n",
      "Row(value='1000002 1000007 8')\n",
      "Row(value='1000002 1000009 144')\n",
      "Row(value='1000002 1000010 314')\n"
     ]
    }
   ],
   "source": [
    "for _ in rawUserArtistData.take(5):\n",
    "    print(_)"
   ]
  },
  {
   "cell_type": "code",
   "execution_count": 6,
   "metadata": {},
   "outputs": [],
   "source": [
    "def fx(row):\n",
    "    cols = row.value.split(' ')\n",
    "    user, artist = cols[:2]\n",
    "    return int(user), int(artist)\n",
    "# end def\n",
    "    \n",
    "userArtistDF = rawUserArtistData.rdd.map(fx).toDF([\"user\", \"artist\"])"
   ]
  },
  {
   "cell_type": "code",
   "execution_count": 7,
   "metadata": {},
   "outputs": [
    {
     "name": "stdout",
     "output_type": "stream",
     "text": [
      "+---------+---------+-----------+-----------+\n",
      "|min(user)|max(user)|min(artist)|max(artist)|\n",
      "+---------+---------+-----------+-----------+\n",
      "|       90|  2443548|          1|   10794401|\n",
      "+---------+---------+-----------+-----------+\n",
      "\n"
     ]
    }
   ],
   "source": [
    "userArtistDF.agg(F.min(\"user\"), F.max(\"user\"), F.min(\"artist\"), F.max(\"artist\")).show()"
   ]
  },
  {
   "cell_type": "code",
   "execution_count": 8,
   "metadata": {},
   "outputs": [],
   "source": [
    "def buildArtistByID(rawArtistData):\n",
    "    def func(row):\n",
    "        try:\n",
    "            (_id, name) = row.value.split('\\t')\n",
    "        except ValueError:\n",
    "            return None, None\n",
    "        # end try\n",
    "        if (name.strip() == ''):\n",
    "            return None, None\n",
    "        else:\n",
    "            try:\n",
    "                return int(_id), name.strip()\n",
    "            except:\n",
    "                return None, None\n",
    "            # end try\n",
    "        # end if\n",
    "    # end def\n",
    "    return rawArtistData.rdd.map(func).toDF([\"id\", \"name\"]).na.drop()\n",
    "# end def"
   ]
  },
  {
   "cell_type": "code",
   "execution_count": 10,
   "metadata": {},
   "outputs": [],
   "source": [
    "def buildArtistAlias(rawArtistAlias):\n",
    "    def func(row):\n",
    "        try:\n",
    "            artist, alias = row.value.split('\\t')\n",
    "        except ValueError:\n",
    "            return None, None\n",
    "        # end try\n",
    "        if (artist.strip()==''):\n",
    "            return None, None\n",
    "        else:\n",
    "            return int(artist), int(alias)\n",
    "        # end if\n",
    "    # end def\n",
    "    return dict(rawArtistAlias.rdd.map(func).collect())\n",
    "# end def"
   ]
  },
  {
   "cell_type": "code",
   "execution_count": 11,
   "metadata": {},
   "outputs": [],
   "source": [
    "artistByID = buildArtistByID(rawArtistData)\n",
    "artistAlias = buildArtistAlias(rawArtistAlias)"
   ]
  },
  {
   "cell_type": "code",
   "execution_count": 12,
   "metadata": {},
   "outputs": [],
   "source": [
    "(badID, goodID) = next(iter(artistAlias.items()))"
   ]
  },
  {
   "cell_type": "code",
   "execution_count": 13,
   "metadata": {},
   "outputs": [
    {
     "name": "stdout",
     "output_type": "stream",
     "text": [
      "+-------+------------------+\n",
      "|     id|              name|\n",
      "+-------+------------------+\n",
      "|1109457|             P.O.S|\n",
      "|2097152|DJ Tiesto -  P.O.S|\n",
      "+-------+------------------+\n",
      "\n"
     ]
    }
   ],
   "source": [
    "artistByID.filter(F.col('id').isin([badID, goodID])).show()"
   ]
  },
  {
   "cell_type": "markdown",
   "metadata": {},
   "source": [
    "### model"
   ]
  },
  {
   "cell_type": "code",
   "execution_count": 14,
   "metadata": {},
   "outputs": [],
   "source": [
    "bArtistAlias = spark.sparkContext.broadcast(buildArtistAlias(rawArtistAlias))"
   ]
  },
  {
   "cell_type": "code",
   "execution_count": 15,
   "metadata": {},
   "outputs": [],
   "source": [
    "def buildCounts(rawUserArtistData, bArtistAlias):\n",
    "    def func(row):\n",
    "        try:\n",
    "            userID, artistID, count = map(int, row.value.split(' '))\n",
    "            finalArtistID = bArtistAlias.value.get(artistID, artistID)\n",
    "            return (userID, finalArtistID, count)\n",
    "        except ValueError:\n",
    "            return None, None, None\n",
    "        # end try\n",
    "    # end def\n",
    "    return rawUserArtistData.rdd.map(func).toDF([\"user\", \"artist\", \"count\"]).na.drop()\n",
    "# end def\n",
    "trainData = buildCounts(rawUserArtistData, bArtistAlias).cache()"
   ]
  },
  {
   "cell_type": "code",
   "execution_count": 18,
   "metadata": {},
   "outputs": [],
   "source": [
    "model = ALS().\\\n",
    "    setSeed(random.randrange(0,10000000)).\\\n",
    "    setImplicitPrefs(True).\\\n",
    "    setRank(10).\\\n",
    "    setRegParam(0.01).\\\n",
    "    setAlpha(1.0).\\\n",
    "    setMaxIter(5).\\\n",
    "    setUserCol(\"user\").\\\n",
    "    setItemCol(\"artist\").\\\n",
    "    setRatingCol(\"count\").\\\n",
    "    setPredictionCol(\"prediction\").\\\n",
    "    fit(trainData)"
   ]
  },
  {
   "cell_type": "code",
   "execution_count": 19,
   "metadata": {},
   "outputs": [
    {
     "data": {
      "text/plain": [
       "DataFrame[user: bigint, artist: bigint, count: bigint]"
      ]
     },
     "execution_count": 19,
     "metadata": {},
     "output_type": "execute_result"
    }
   ],
   "source": [
    "trainData.unpersist()"
   ]
  },
  {
   "cell_type": "code",
   "execution_count": 20,
   "metadata": {},
   "outputs": [
    {
     "name": "stdout",
     "output_type": "stream",
     "text": [
      "+---------------------------------------------------------------------------------------------------------------------------------------------+\n",
      "|features                                                                                                                                     |\n",
      "+---------------------------------------------------------------------------------------------------------------------------------------------+\n",
      "|[0.21385032, 1.0595834, 0.8638984, -0.58076483, 0.003490461, 0.28563088, -0.6426925, -0.25011587, 0.19714808, 0.056397416]                   |\n",
      "|[0.025967527, 0.16122174, -0.007507139, 0.21961178, 0.35733238, 0.17316116, 0.078774504, -0.23080605, -0.049477864, -0.13456783]             |\n",
      "|[0.002412245, 0.0018115287, -0.00166127, -0.008169363, 0.0018560075, -0.0043602716, -0.0012213151, 1.02754086E-4, -0.004237815, 0.0029334316]|\n",
      "|[0.93689215, 2.0572243, 0.62198925, -0.083344735, 0.2554755, 0.23550883, -0.148994, -0.45758742, 0.50745463, -0.35692817]                    |\n",
      "|[0.51484996, 1.4077482, 0.044694472, -0.0238545, 1.2103138, 0.8335775, -0.044794336, -1.6580256, 0.8876193, -0.32306552]                     |\n",
      "|[1.6484061, -0.15550569, 1.1461788, 1.6240671, 0.33977896, 3.3717265, 0.45228904, -0.004331046, -2.5050159, -1.1852316]                      |\n",
      "|[0.3791224, 1.8203491, 0.19436744, 0.6574167, 0.99832195, 0.681855, 0.41054878, -0.94932526, 0.10426193, -0.34473687]                        |\n",
      "|[0.108037956, 0.03419108, 0.09562534, 0.059005197, 0.042371582, -0.023962924, 0.018689426, -0.023726253, -0.007345815, -0.018831799]         |\n",
      "|[1.4588488, 0.042265072, -0.37984025, 0.902276, 0.9458007, -0.4600726, -0.9358483, -0.7626684, -0.565295, -0.91239053]                       |\n",
      "|[0.5832096, 0.7651004, -0.26507688, 0.62950987, 1.1005257, 0.7909047, 0.038980957, -0.45071548, 0.6855961, 0.14801705]                       |\n",
      "|[1.8714435, 2.245387, 1.9863601, -0.6822425, 1.2954412, 1.4943771, -0.7920973, -1.5930432, 0.5420416, -0.10948901]                           |\n",
      "|[0.83404773, 0.54498065, 1.913292, 0.36340508, 2.0893137, 2.6513956, 0.14122699, -1.7267293, 0.28407663, 0.10779429]                         |\n",
      "|[0.15129529, 0.6561312, 1.4575793, 0.6596827, 1.917896, 1.6905097, -0.52536106, -1.6045437, -0.24379328, -0.4786971]                         |\n",
      "|[1.4812387, 0.19996944, 1.8958794, 0.13649149, 1.9843457, 1.6693184, -0.52283937, -1.9633267, -0.23630095, -1.5064721]                       |\n",
      "|[-0.1981469, 0.8998901, 0.2969082, 0.04943206, 0.7648628, 0.93190014, 0.7518008, -0.583021, 0.21508308, -0.4223242]                          |\n",
      "|[0.15462872, -0.08898344, 0.91941357, 0.5146803, 1.0171504, 0.86125475, 0.07378411, -0.6944493, -0.3061122, -0.30388203]                     |\n",
      "|[2.547229, 2.2213035, -0.13040155, -1.0857279, 0.95000774, 2.5279949, 1.6735035, -1.4518517, 2.4617355, -0.28161708]                         |\n",
      "|[0.13113512, 0.354833, 0.0323907, 0.45798832, 0.6205301, 0.4847123, 0.20971, -0.37881085, -0.16986899, -0.20915093]                          |\n",
      "|[-0.0040713847, 0.006406567, 0.028841492, -0.0069427253, 0.041206352, 0.02733284, -0.05972093, -0.049101844, -0.015573758, -0.010212248]     |\n",
      "|[0.1371194, 0.38293913, 0.8159341, -0.20302738, 1.601185, 1.3248794, 1.0701478, -1.8135822, 0.44807175, -0.6890269]                          |\n",
      "+---------------------------------------------------------------------------------------------------------------------------------------------+\n",
      "only showing top 20 rows\n",
      "\n"
     ]
    }
   ],
   "source": [
    "model.userFactors.select(\"features\").show(truncate = False)"
   ]
  },
  {
   "cell_type": "code",
   "execution_count": 21,
   "metadata": {},
   "outputs": [],
   "source": [
    "userID = 2093760\n",
    "\n",
    "existingArtistIDs = trainData.\\\n",
    "    filter(F.col(\"user\") == userID).rdd.\\\n",
    "    map(lambda row: int(row.artist)).collect()"
   ]
  },
  {
   "cell_type": "code",
   "execution_count": 22,
   "metadata": {},
   "outputs": [],
   "source": [
    "artistByID = buildArtistByID(rawArtistData)"
   ]
  },
  {
   "cell_type": "code",
   "execution_count": 23,
   "metadata": {},
   "outputs": [
    {
     "name": "stdout",
     "output_type": "stream",
     "text": [
      "+-------+---------------+\n",
      "|     id|           name|\n",
      "+-------+---------------+\n",
      "|   1180|     David Gray|\n",
      "|    378|  Blackalicious|\n",
      "|    813|     Jurassic 5|\n",
      "|1255340|The Saw Doctors|\n",
      "|    942|         Xzibit|\n",
      "+-------+---------------+\n",
      "\n"
     ]
    }
   ],
   "source": [
    "artistByID.filter(F.col(\"id\").isin(existingArtistIDs)).show()"
   ]
  },
  {
   "cell_type": "code",
   "execution_count": 24,
   "metadata": {},
   "outputs": [],
   "source": [
    "toRecommend = model.itemFactors.\\\n",
    "        select(F.col(\"id\").alias(\"artist\")).\\\n",
    "        withColumn(\"user\", F.lit(userID))"
   ]
  },
  {
   "cell_type": "code",
   "execution_count": 25,
   "metadata": {},
   "outputs": [],
   "source": [
    "def makeRecommendations(model, userID, howMany):\n",
    "    toRecommend = model.itemFactors.\\\n",
    "        select(F.col(\"id\").alias(\"artist\")).\\\n",
    "        withColumn(\"user\", F.lit(userID))\n",
    "    ans = model.transform(toRecommend).\\\n",
    "        select([\"artist\", \"prediction\"]).\\\n",
    "        orderBy(F.col(\"prediction\"), ascending=False).\\\n",
    "        limit(howMany)\n",
    "    return ans\n",
    "# end def"
   ]
  },
  {
   "cell_type": "code",
   "execution_count": 26,
   "metadata": {},
   "outputs": [
    {
     "name": "stdout",
     "output_type": "stream",
     "text": [
      "+-------+-----------+\n",
      "| artist| prediction|\n",
      "+-------+-----------+\n",
      "|   2814|0.033237856|\n",
      "|1300642|0.032410886|\n",
      "|1001819| 0.03231231|\n",
      "|   4605|0.031960785|\n",
      "|   1811| 0.03170042|\n",
      "+-------+-----------+\n",
      "\n"
     ]
    }
   ],
   "source": [
    "topRecommendations = makeRecommendations(model, userID, 5)\n",
    "topRecommendations.show()"
   ]
  },
  {
   "cell_type": "code",
   "execution_count": 27,
   "metadata": {},
   "outputs": [],
   "source": [
    "recommendedArtistIDs = topRecommendations.select(\"artist\").rdd.map(lambda row: int(row['artist'])).collect()"
   ]
  },
  {
   "cell_type": "code",
   "execution_count": 28,
   "metadata": {},
   "outputs": [
    {
     "name": "stdout",
     "output_type": "stream",
     "text": [
      "+-------+----------+\n",
      "|     id|      name|\n",
      "+-------+----------+\n",
      "|   2814|   50 Cent|\n",
      "|   4605|Snoop Dogg|\n",
      "|   1811|   Dr. Dre|\n",
      "|1001819|      2Pac|\n",
      "|1300642|  The Game|\n",
      "+-------+----------+\n",
      "\n"
     ]
    }
   ],
   "source": [
    "artistByID.filter(F.col(\"id\").isin(recommendedArtistIDs)).show()"
   ]
  },
  {
   "cell_type": "code",
   "execution_count": 29,
   "metadata": {},
   "outputs": [
    {
     "data": {
      "text/plain": [
       "DataFrame[id: int, features: array<float>]"
      ]
     },
     "execution_count": 29,
     "metadata": {},
     "output_type": "execute_result"
    }
   ],
   "source": [
    "model.userFactors.unpersist()\n",
    "model.itemFactors.unpersist()"
   ]
  },
  {
   "cell_type": "markdown",
   "metadata": {},
   "source": [
    "### evaluate"
   ]
  },
  {
   "cell_type": "code",
   "execution_count": 30,
   "metadata": {},
   "outputs": [],
   "source": [
    "bArtistAlias = spark.sparkContext.broadcast(buildArtistAlias(rawArtistAlias))"
   ]
  },
  {
   "cell_type": "code",
   "execution_count": 31,
   "metadata": {},
   "outputs": [],
   "source": [
    "allData = buildCounts(rawUserArtistData, bArtistAlias)"
   ]
  },
  {
   "cell_type": "code",
   "execution_count": 32,
   "metadata": {},
   "outputs": [],
   "source": [
    "trainData, cvData = allData.randomSplit([0.9, 0.1])"
   ]
  },
  {
   "cell_type": "code",
   "execution_count": 33,
   "metadata": {},
   "outputs": [
    {
     "data": {
      "text/plain": [
       "DataFrame[user: bigint, artist: bigint, count: bigint]"
      ]
     },
     "execution_count": 33,
     "metadata": {},
     "output_type": "execute_result"
    }
   ],
   "source": [
    "trainData.cache()\n",
    "cvData.cache()"
   ]
  },
  {
   "cell_type": "code",
   "execution_count": 34,
   "metadata": {},
   "outputs": [],
   "source": [
    "allArtistIDs = allData.select(\"artist\").rdd.map(lambda row: int(row[\"artist\"])).distinct().collect()"
   ]
  },
  {
   "cell_type": "code",
   "execution_count": 35,
   "metadata": {},
   "outputs": [],
   "source": [
    "bAllArtistIDs = spark.sparkContext.broadcast(allArtistIDs)"
   ]
  },
  {
   "cell_type": "code",
   "execution_count": 36,
   "metadata": {},
   "outputs": [],
   "source": [
    "positiveData = cvData"
   ]
  },
  {
   "cell_type": "code",
   "execution_count": 37,
   "metadata": {},
   "outputs": [],
   "source": [
    "def predictMostListened(train):\n",
    "    listenCounts = train.groupBy(\"artist\").\\\n",
    "        agg(F.sum(\"count\").alias(\"prediction\")).\\\n",
    "        select([\"artist\", \"prediction\"])\n",
    "    def func(allData):\n",
    "        return allData.\\\n",
    "          join(listenCounts, [\"artist\"], \"left_outer\").\\\n",
    "          select([\"user\", \"artist\", \"prediction\"])\n",
    "    # end def\n",
    "    return func\n",
    "# end def\n",
    "predictFunction = predictMostListened(trainData)"
   ]
  },
  {
   "cell_type": "code",
   "execution_count": 38,
   "metadata": {},
   "outputs": [],
   "source": [
    "positivePredictions = predictFunction(positiveData.select([\"user\", \"artist\"])).\\\n",
    "    withColumnRenamed(\"prediction\", \"positivePrediction\")"
   ]
  },
  {
   "cell_type": "code",
   "execution_count": 45,
   "metadata": {},
   "outputs": [],
   "source": [
    "negativeData = positiveData.select([\"user\", \"artist\"]).rdd.\\\n",
    "    map(lambda row: (int(row['user']), int(row['artist'])))"
   ]
  },
  {
   "cell_type": "code",
   "execution_count": 47,
   "metadata": {},
   "outputs": [],
   "source": [
    "negativeData = negativeData.groupByKey()"
   ]
  },
  {
   "cell_type": "code",
   "execution_count": 49,
   "metadata": {},
   "outputs": [
    {
     "data": {
      "text/plain": [
       "PythonRDD[299] at RDD at PythonRDD.scala:53"
      ]
     },
     "execution_count": 49,
     "metadata": {},
     "output_type": "execute_result"
    }
   ],
   "source": [
    "negativeData.cache()"
   ]
  },
  {
   "cell_type": "code",
   "execution_count": null,
   "metadata": {},
   "outputs": [],
   "source": [
    "\n",
    "\n",
    "# BinaryClassificationMetrics.areaUnderROC is not used here since there are really lots of\n",
    "# small AUC problems, and it would be inefficient, when a direct computation is available.\n",
    "\n",
    "# Create a set of \"negative\" products for each user. These are randomly chosen\n",
    "# from among all of the other artists, excluding those that are \"positive\" for the user.\n",
    "def func(item):\n",
    "    userID, userIDAndPosArtistIDs = item\n",
    "    posItemIDSet = list(userIDAndPosArtistIDs[1])\n",
    "    negative = []\n",
    "    allArtistIDs = bAllArtistIDs.value\n",
    "    i = 0\n",
    "    # Make at most one pass over all artists to avoid an infinite loop.\n",
    "    # Also stop when number of negative equals positive set size\n",
    "    while (i < len(allArtistIDs) and len(negative) < len(posItemIDSet)):\n",
    "        artistID = random.choice(allArtistIDs)\n",
    "        # Only add distinct IDs\n",
    "        if (artistID not in posItemIDSet):\n",
    "            negative.append(artistID)\n",
    "        # end def\n",
    "        i += 1\n",
    "    # end while\n",
    "    # Return the set with user ID added back\n",
    "    return (userID, artistID)\n",
    "# end def\n",
    "\n",
    "# BinaryClassificationMetrics.areaUnderROC is not used here since there are really lots of\n",
    "# small AUC problems, and it would be inefficient, when a direct computation is available.\n",
    "\n",
    "# Create a set of \"negative\" products for each user. These are randomly chosen\n",
    "# from among all of the other artists, excluding those that are \"positive\" for the user.\n",
    "negativeData = positiveData.select([\"user\", \"artist\"]).rdd.\\\n",
    "    map(lambda row: (int(row['user']), int(row['artist'])))\n",
    "negativeData = negativeData.groupByKey()\n",
    "negativeData = negativeData.map(lambda item: (item[0], (item[0], item[1])) )\n",
    "negativeData = negativeData.map(func)\n",
    "negativeData = negativeData.toDF([\"user\", \"artist\"])\n",
    "\n"
   ]
  },
  {
   "cell_type": "code",
   "execution_count": 106,
   "metadata": {},
   "outputs": [],
   "source": [
    "# Make predictions on the rest:\n",
    "negativePredictions = predictFunction(negativeData).\\\n",
    "    withColumnRenamed(\"prediction\", \"negativePrediction\")\n",
    "\n",
    "# Join positive predictions to negative predictions by user, only.\n",
    "# This will result in a row for every possible pairing of positive and negative\n",
    "# predictions within each user.\n",
    "joinedPredictions = positivePredictions.join(negativePredictions, \"user\").\\\n",
    "    select([\"user\", \"positivePrediction\", \"negativePrediction\"]).cache()\n",
    "\n",
    "# Count the number of pairs per user\n",
    "allCounts = joinedPredictions.\\\n",
    "    groupBy(\"user\").agg(F.count(F.lit(\"1\")).alias(\"total\")).\\\n",
    "    select([\"user\", \"total\"])\n",
    "# Count the number of correctly ordered pairs per user\n",
    "correctCounts = joinedPredictions.\\\n",
    "    filter(F.col(\"positivePrediction\") > F.col(\"negativePrediction\")).\\\n",
    "    groupBy(\"user\").agg(F.count(\"user\").alias(\"correct\")).\\\n",
    "    select([\"user\", \"correct\"])\n",
    "\n",
    "# Combine these, compute their ratio, and average over all users\n",
    "meanAUC = allCounts.join(correctCounts, [\"user\"], \"left_outer\").\\\n",
    "    select(\"user\", (F.coalesce(F.col(\"correct\"), F.lit(0)) / F.col(\"total\")).alias(\"auc\")).\\\n",
    "    agg(F.mean(\"auc\"))\n",
    "\n",
    "\n",
    "# joinedPredictions.unpersist()\n"
   ]
  },
  {
   "cell_type": "code",
   "execution_count": null,
   "metadata": {},
   "outputs": [],
   "source": [
    "meanAUC.collect()"
   ]
  },
  {
   "cell_type": "code",
   "execution_count": null,
   "metadata": {},
   "outputs": [],
   "source": []
  },
  {
   "cell_type": "code",
   "execution_count": null,
   "metadata": {},
   "outputs": [],
   "source": []
  },
  {
   "cell_type": "code",
   "execution_count": null,
   "metadata": {},
   "outputs": [],
   "source": []
  },
  {
   "cell_type": "code",
   "execution_count": null,
   "metadata": {},
   "outputs": [],
   "source": [
    "def areaUnderCurve(positiveData, bAllArtistIDs, predictFunction):\n",
    "    \n",
    "    # What this actually computes is AUC, per user. The result is actually something\n",
    "    # that might be called \"mean AUC\".\n",
    "\n",
    "    # Take held-out data as the \"positive\".\n",
    "    # Make predictions for each of them, including a numeric score\n",
    "    positivePredictions = predictFunction(positiveData.select([\"user\", \"artist\"])).\\\n",
    "        withColumnRenamed([\"prediction\", \"positivePrediction\"])\n",
    "\n",
    "    # BinaryClassificationMetrics.areaUnderROC is not used here since there are really lots of\n",
    "    # small AUC problems, and it would be inefficient, when a direct computation is available.\n",
    "\n",
    "    # Create a set of \"negative\" products for each user. These are randomly chosen\n",
    "    # from among all of the other artists, excluding those that are \"positive\" for the user.\n",
    "    negativeData = positiveData.select([\"user\", \"artist\"]).as((IntegerType, IntegerType)).\n",
    "        groupByKey { case (user, _) : user}.\n",
    "        flatMapGroups { case (userID, userIDAndPosArtistIDs) :\n",
    "            random = Random()\n",
    "            posItemIDSet = userIDAndPosArtistIDs.map { case (_, artist) : artist }\n",
    "            negative = ArrayBuffer[Int]()\n",
    "            allArtistIDs = bAllArtistIDs.value\n",
    "            var i = 0\n",
    "            # Make at most one pass over all artists to avoid an infinite loop.\n",
    "            # Also stop when number of negative equals positive set size\n",
    "            while (i < allArtistIDs.length && negative.size < posItemIDSet.size) {\n",
    "                artistID = allArtistIDs(random.nextInt(allArtistIDs.length))\n",
    "                # Only add distinct IDs\n",
    "                if (!posItemIDSet.contains(artistID)) {\n",
    "                    negative += artistID\n",
    "                # end def\n",
    "                i += 1\n",
    "            # end def\n",
    "            # Return the set with user ID added back\n",
    "            negative.map(artistID : (userID, artistID))\n",
    "        # end def.toDF(\"user\", \"artist\")\n",
    "\n",
    "    # Make predictions on the rest:\n",
    "    negativePredictions = predictFunction(negativeData).\\\n",
    "        withColumnRenamed(\"prediction\", \"negativePrediction\")\n",
    "\n",
    "    # Join positive predictions to negative predictions by user, only.\n",
    "    # This will result in a row for every possible pairing of positive and negative\n",
    "    # predictions within each user.\n",
    "    joinedPredictions = positivePredictions.join(negativePredictions, \"user\").\\\n",
    "        select(\"user\", \"positivePrediction\", \"negativePrediction\").cache()\n",
    "\n",
    "    # Count the number of pairs per user\n",
    "    allCounts = joinedPredictions.\\\n",
    "        groupBy(\"user\").agg(count(lit(\"1\")).as(\"total\")).\\\n",
    "        select(\"user\", \"total\")\n",
    "    # Count the number of correctly ordered pairs per user\n",
    "    correctCounts = joinedPredictions.\\\n",
    "        filter($\"positivePrediction\" > $\"negativePrediction\").\\\n",
    "        groupBy(\"user\").agg(count(\"user\").as(\"correct\")).\\\n",
    "        select(\"user\", \"correct\")\n",
    "\n",
    "    # Combine these, compute their ratio, and average over all users\n",
    "    meanAUC = allCounts.join(correctCounts, Seq(\"user\"), \"left_outer\").\\\n",
    "        select($\"user\", (coalesce($\"correct\", lit(0)) / $\"total\").as(\"auc\")).\\\n",
    "        agg(mean(\"auc\")).\\\n",
    "        as[Double].first()\n",
    "\n",
    "    joinedPredictions.unpersist()\n",
    "\n",
    "    return meanAUC\n",
    "# end def"
   ]
  },
  {
   "cell_type": "code",
   "execution_count": null,
   "metadata": {},
   "outputs": [],
   "source": []
  },
  {
   "cell_type": "code",
   "execution_count": null,
   "metadata": {},
   "outputs": [],
   "source": []
  },
  {
   "cell_type": "code",
   "execution_count": null,
   "metadata": {},
   "outputs": [],
   "source": [
    "mostListenedAUC = areaUnderCurve(cvData, bAllArtistIDs, predictMostListened(trainData))\n",
    "print(mostListenedAUC)\n",
    "\n",
    "evaluations = []\n",
    "for rank in (5, 30):\n",
    "    for regParam in (1.0, 0.0001):\n",
    "        for alpha in (1.0, 40.0):\n",
    "            model = ALS().\n",
    "                setSeed(random.randrange(0,10000000)).\\\n",
    "                setImplicitPrefs(True).\\\n",
    "                setRank(rank).setRegParam(regParam).\\\n",
    "                setAlpha(alpha).setMaxIter(20).\\\n",
    "                setUserCol(\"user\").setItemCol(\"artist\").\\\n",
    "                setRatingCol(\"count\").setPredictionCol(\"prediction\").\\\n",
    "                fit(trainData)\n",
    "\n",
    "                auc = areaUnderCurve(cvData, bAllArtistIDs, model.transform)\n",
    "\n",
    "                model.userFactors.unpersist()\n",
    "                model.itemFactors.unpersist()\n",
    "\n",
    "                ans = (auc, (rank, regParam, alpha))\n",
    "                evaluations.append(ans)\n",
    "        # end for\n",
    "    # end for\n",
    "# end for\n",
    "\n",
    "for _ in reversed(sorted(evaluations)):\n",
    "    print(_)\n",
    "# end for\n",
    "\n",
    "trainData.unpersist()\n",
    "cvData.unpersist()"
   ]
  },
  {
   "cell_type": "code",
   "execution_count": 269,
   "metadata": {},
   "outputs": [],
   "source": [
    "def recommend(rawUserArtistData, rawArtistData, rawArtistAlias):\n",
    "\n",
    "    bArtistAlias = self.spark.sparkContext.broadcast(buildArtistAlias(rawArtistAlias))\n",
    "    allData = buildCounts(rawUserArtistData, bArtistAlias).cache()\n",
    "    model = ALS().\\\n",
    "        setSeed(Random.nextLong()).\\\n",
    "        setImplicitPrefs(True).\\\n",
    "        setRank(10).setRegParam(1.0).setAlpha(40.0).setMaxIter(20).\\\n",
    "        setUserCol(\"user\").setItemCol(\"artist\").\\\n",
    "        setRatingCol(\"count\").setPredictionCol(\"prediction\").\\\n",
    "        fit(allData)\n",
    "    allData.unpersist()\n",
    "\n",
    "    userID = 2093760\n",
    "    topRecommendations = makeRecommendations(model, userID, 5)\n",
    "\n",
    "    recommendedArtistIDs = topRecommendations.select(\"artist\").map(lambda row: int(row[\"artist\"])).collect()\n",
    "    artistByID = buildArtistByID(rawArtistData)\n",
    "    artistByID.join(self.spark.createDataset(recommendedArtistIDs).toDF(\"id\"), \"id\").\\\n",
    "        select(\"name\").show()\n",
    "\n",
    "    model.userFactors.unpersist()\n",
    "    model.itemFactors.unpersist()\n",
    "# end def"
   ]
  },
  {
   "cell_type": "code",
   "execution_count": 274,
   "metadata": {},
   "outputs": [],
   "source": []
  },
  {
   "cell_type": "code",
   "execution_count": null,
   "metadata": {},
   "outputs": [],
   "source": []
  }
 ],
 "metadata": {
  "kernelspec": {
   "display_name": "Python 3",
   "language": "python",
   "name": "python3"
  },
  "language_info": {
   "codemirror_mode": {
    "name": "ipython",
    "version": 3
   },
   "file_extension": ".py",
   "mimetype": "text/x-python",
   "name": "python",
   "nbconvert_exporter": "python",
   "pygments_lexer": "ipython3",
   "version": "3.5.2"
  }
 },
 "nbformat": 4,
 "nbformat_minor": 2
}
